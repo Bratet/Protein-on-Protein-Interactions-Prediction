{
 "cells": [
  {
   "attachments": {},
   "cell_type": "markdown",
   "metadata": {},
   "source": [
    "# Building the complete database"
   ]
  },
  {
   "attachments": {},
   "cell_type": "markdown",
   "metadata": {},
   "source": [
    "Now that we have an encoding for every protein that has been recorded to have positively interacted with another (this file should be run after `generateAADB.ipynb`), we can build our database using a protein's AA sequence as their ID instead of their gene symbol.\n",
    "\n",
    "This would allow us to extract all the features we need to start working on our model."
   ]
  },
  {
   "cell_type": "markdown",
   "metadata": {},
   "source": []
  }
 ],
 "metadata": {
  "language_info": {
   "name": "python"
  },
  "orig_nbformat": 4
 },
 "nbformat": 4,
 "nbformat_minor": 2
}
