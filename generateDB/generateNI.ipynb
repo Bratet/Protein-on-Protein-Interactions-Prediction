{
 "cells": [
  {
   "cell_type": "code",
   "execution_count": 1,
   "metadata": {},
   "outputs": [],
   "source": [
    "import pandas as pd\n",
    "import networkx as nx\n",
    "import random"
   ]
  },
  {
   "cell_type": "code",
   "execution_count": 2,
   "metadata": {},
   "outputs": [
    {
     "data": {
      "text/html": [
       "<div>\n",
       "<style scoped>\n",
       "    .dataframe tbody tr th:only-of-type {\n",
       "        vertical-align: middle;\n",
       "    }\n",
       "\n",
       "    .dataframe tbody tr th {\n",
       "        vertical-align: top;\n",
       "    }\n",
       "\n",
       "    .dataframe thead th {\n",
       "        text-align: right;\n",
       "    }\n",
       "</style>\n",
       "<table border=\"1\" class=\"dataframe\">\n",
       "  <thead>\n",
       "    <tr style=\"text-align: right;\">\n",
       "      <th></th>\n",
       "      <th>protein1</th>\n",
       "      <th>protein2</th>\n",
       "    </tr>\n",
       "  </thead>\n",
       "  <tbody>\n",
       "    <tr>\n",
       "      <th>0</th>\n",
       "      <td>MAGARSRDPWGASGICYLFGSLLVELLFSRAVAFNLDVMGALRKEG...</td>\n",
       "      <td>MEPWPLLLLFSLCSAGLVLGSEHETRLVAKLFKDYSSVVRPVEDHR...</td>\n",
       "    </tr>\n",
       "    <tr>\n",
       "      <th>1</th>\n",
       "      <td>MLKTESSGERTTLRSASPHRNAYRTEFQALKSTFDKPKSDGEQKTK...</td>\n",
       "      <td>MEEEIAALVIDNGSGMCKAGFAGDDAPRAVFPSIVGRPRHQGVMVG...</td>\n",
       "    </tr>\n",
       "    <tr>\n",
       "      <th>2</th>\n",
       "      <td>MMQKLLKCSRLVLALALILVLESSVQGYPTRRARYQWVRCNPDSNS...</td>\n",
       "      <td>MDKFWWHAAWGLCLVPLSLAQIDLNITCRFAGVFHVEKNGRYSISR...</td>\n",
       "    </tr>\n",
       "    <tr>\n",
       "      <th>3</th>\n",
       "      <td>MELDLSPPHLSSSPEDLCPAPGTPPGTPRPPDTPLPEEVKRSQPLL...</td>\n",
       "      <td>MELAALCRWGLLLALLPPGAASTQVCTGTDMKLRLPASPETHLDML...</td>\n",
       "    </tr>\n",
       "    <tr>\n",
       "      <th>4</th>\n",
       "      <td>MSQRPRAPRSALWLLAPPLLRWAPPLLTVLHSDLFQALLDILDYYE...</td>\n",
       "      <td>MELAALCRWGLLLALLPPGAASTQVCTGTDMKLRLPASPETHLDML...</td>\n",
       "    </tr>\n",
       "  </tbody>\n",
       "</table>\n",
       "</div>"
      ],
      "text/plain": [
       "                                            protein1  \\\n",
       "0  MAGARSRDPWGASGICYLFGSLLVELLFSRAVAFNLDVMGALRKEG...   \n",
       "1  MLKTESSGERTTLRSASPHRNAYRTEFQALKSTFDKPKSDGEQKTK...   \n",
       "2  MMQKLLKCSRLVLALALILVLESSVQGYPTRRARYQWVRCNPDSNS...   \n",
       "3  MELDLSPPHLSSSPEDLCPAPGTPPGTPRPPDTPLPEEVKRSQPLL...   \n",
       "4  MSQRPRAPRSALWLLAPPLLRWAPPLLTVLHSDLFQALLDILDYYE...   \n",
       "\n",
       "                                            protein2  \n",
       "0  MEPWPLLLLFSLCSAGLVLGSEHETRLVAKLFKDYSSVVRPVEDHR...  \n",
       "1  MEEEIAALVIDNGSGMCKAGFAGDDAPRAVFPSIVGRPRHQGVMVG...  \n",
       "2  MDKFWWHAAWGLCLVPLSLAQIDLNITCRFAGVFHVEKNGRYSISR...  \n",
       "3  MELAALCRWGLLLALLPPGAASTQVCTGTDMKLRLPASPETHLDML...  \n",
       "4  MELAALCRWGLLLALLPPGAASTQVCTGTDMKLRLPASPETHLDML...  "
      ]
     },
     "execution_count": 2,
     "metadata": {},
     "output_type": "execute_result"
    }
   ],
   "source": [
    "positive_data = pd.read_csv('data/sequence_data.csv')\n",
    "positive_data.columns = ['protein1', 'protein2']\n",
    "positive_data.head()"
   ]
  },
  {
   "cell_type": "code",
   "execution_count": 3,
   "metadata": {},
   "outputs": [],
   "source": [
    "unique_proteins = set(positive_data['protein1']).union(set(positive_data['protein2']))"
   ]
  },
  {
   "cell_type": "code",
   "execution_count": 4,
   "metadata": {},
   "outputs": [],
   "source": [
    "positive_graph = nx.from_pandas_edgelist(positive_data, 'protein1', 'protein2')"
   ]
  },
  {
   "cell_type": "code",
   "execution_count": 5,
   "metadata": {},
   "outputs": [],
   "source": [
    "ng = nx.complement(positive_graph)"
   ]
  },
  {
   "cell_type": "code",
   "execution_count": 6,
   "metadata": {},
   "outputs": [],
   "source": [
    "ng_data = pd.DataFrame(ng.edges(), columns=['protein1', 'protein2'])"
   ]
  },
  {
   "cell_type": "code",
   "execution_count": 7,
   "metadata": {},
   "outputs": [],
   "source": [
    "# Random Pair selection (RP)\n",
    "def random_pair_selection(ng_data, positive_data):\n",
    "    negative_data = ng_data.sample(n=len(positive_data))\n",
    "    return negative_data\n",
    "\n",
    "# Same Degree distribution (SD)\n",
    "def same_degree_distribution(ng, positive_graph):\n",
    "    degree_dict = positive_graph.degree()\n",
    "    ng_degree_sorted = sorted(ng.edges(data=True), key=lambda x: degree_dict[x[0]] + degree_dict[x[1]], reverse=True)\n",
    "    negative_data = pd.DataFrame(ng_degree_sorted[:len(positive_graph.edges())], columns=['protein1', 'protein2', 'data']).drop(columns=['data'])\n",
    "    return negative_data\n",
    "\n",
    "# Feature extraction: sum of degrees for each protein pair\n",
    "def feature_extraction(ng_data, positive_graph):\n",
    "    degree_dict = positive_graph.degree()\n",
    "    features = ng_data.apply(lambda row: degree_dict[row['protein1']] + degree_dict[row['protein2']], axis=1)\n",
    "    return features\n",
    "\n",
    "# Most Close (MC) and Most Distant (MD) selection\n",
    "def most_close_distant(ng_data, positive_data, positive_graph, strategy='close'):\n",
    "    features = feature_extraction(ng_data, positive_graph)\n",
    "    mean_feature = features.mean()\n",
    "    \n",
    "    if strategy == 'close':\n",
    "        ng_data['distance'] = abs(features - mean_feature)\n",
    "        ng_data_sorted = ng_data.sort_values(by='distance', ascending=True)\n",
    "    elif strategy == 'distant':\n",
    "        ng_data['distance'] = abs(features - mean_feature)\n",
    "        ng_data_sorted = ng_data.sort_values(by='distance', ascending=False)\n",
    "    else:\n",
    "        raise ValueError(\"Invalid strategy. Choose 'close' or 'distant'.\")\n",
    "        \n",
    "    negative_data = ng_data_sorted.head(len(positive_data)).drop(columns=['distance'])\n",
    "    return negative_data"
   ]
  },
  {
   "cell_type": "code",
   "execution_count": 9,
   "metadata": {},
   "outputs": [],
   "source": [
    "#negative_data_rp = random_pair_selection(ng_data, positive_data)\n",
    "negative_data_sd = same_degree_distribution(ng, positive_graph)\n",
    "#negative_data_mc = most_close_distant(ng_data, positive_data, positive_graph, strategy='close')\n",
    "#negative_data_md = most_close_distant(ng_data, positive_data, positive_graph, strategy='distant')"
   ]
  },
  {
   "cell_type": "code",
   "execution_count": 11,
   "metadata": {},
   "outputs": [
    {
     "data": {
      "text/html": [
       "<div>\n",
       "<style scoped>\n",
       "    .dataframe tbody tr th:only-of-type {\n",
       "        vertical-align: middle;\n",
       "    }\n",
       "\n",
       "    .dataframe tbody tr th {\n",
       "        vertical-align: top;\n",
       "    }\n",
       "\n",
       "    .dataframe thead th {\n",
       "        text-align: right;\n",
       "    }\n",
       "</style>\n",
       "<table border=\"1\" class=\"dataframe\">\n",
       "  <thead>\n",
       "    <tr style=\"text-align: right;\">\n",
       "      <th></th>\n",
       "      <th>protein1</th>\n",
       "      <th>protein2</th>\n",
       "    </tr>\n",
       "  </thead>\n",
       "  <tbody>\n",
       "    <tr>\n",
       "      <th>0</th>\n",
       "      <td>MGSNKSKPKDASQRRRSLEPAENVHGAGGGAFPASQTPSKPASADG...</td>\n",
       "      <td>MEEPQSDPSVEPPLSQETFSDLWKLLPENNVLSPLPSQAMDDLMLS...</td>\n",
       "    </tr>\n",
       "    <tr>\n",
       "      <th>1</th>\n",
       "      <td>MEAIAKYDFKATADDELSFKRGDILKVLNEECDQNWYKAELNGKDG...</td>\n",
       "      <td>MEEPQSDPSVEPPLSQETFSDLWKLLPENNVLSPLPSQAMDDLMLS...</td>\n",
       "    </tr>\n",
       "    <tr>\n",
       "      <th>2</th>\n",
       "      <td>MAENVVEPGPPSAKRPKLSSPALSASASDGTDFGSLFDLEHDLPDE...</td>\n",
       "      <td>MVDREQLVQKARLAEQAERYDDMAAAMKNVTELNEPLSNEERNLLS...</td>\n",
       "    </tr>\n",
       "    <tr>\n",
       "      <th>3</th>\n",
       "      <td>MAENLLDGPPNPKRAKLSSPGFSANDSTDFGSLFDLENDLPDELIP...</td>\n",
       "      <td>MVDREQLVQKARLAEQAERYDDMAAAMKNVTELNEPLSNEERNLLS...</td>\n",
       "    </tr>\n",
       "    <tr>\n",
       "      <th>4</th>\n",
       "      <td>MEAAVAAPRPRLLLLVLAAAAAAAAALLPGATALQCFCHLCTKDNF...</td>\n",
       "      <td>MEEPQSDPSVEPPLSQETFSDLWKLLPENNVLSPLPSQAMDDLMLS...</td>\n",
       "    </tr>\n",
       "  </tbody>\n",
       "</table>\n",
       "</div>"
      ],
      "text/plain": [
       "                                            protein1  \\\n",
       "0  MGSNKSKPKDASQRRRSLEPAENVHGAGGGAFPASQTPSKPASADG...   \n",
       "1  MEAIAKYDFKATADDELSFKRGDILKVLNEECDQNWYKAELNGKDG...   \n",
       "2  MAENVVEPGPPSAKRPKLSSPALSASASDGTDFGSLFDLEHDLPDE...   \n",
       "3  MAENLLDGPPNPKRAKLSSPGFSANDSTDFGSLFDLENDLPDELIP...   \n",
       "4  MEAAVAAPRPRLLLLVLAAAAAAAAALLPGATALQCFCHLCTKDNF...   \n",
       "\n",
       "                                            protein2  \n",
       "0  MEEPQSDPSVEPPLSQETFSDLWKLLPENNVLSPLPSQAMDDLMLS...  \n",
       "1  MEEPQSDPSVEPPLSQETFSDLWKLLPENNVLSPLPSQAMDDLMLS...  \n",
       "2  MVDREQLVQKARLAEQAERYDDMAAAMKNVTELNEPLSNEERNLLS...  \n",
       "3  MVDREQLVQKARLAEQAERYDDMAAAMKNVTELNEPLSNEERNLLS...  \n",
       "4  MEEPQSDPSVEPPLSQETFSDLWKLLPENNVLSPLPSQAMDDLMLS...  "
      ]
     },
     "execution_count": 11,
     "metadata": {},
     "output_type": "execute_result"
    }
   ],
   "source": [
    "negative_data_sd.head()"
   ]
  },
  {
   "cell_type": "code",
   "execution_count": 16,
   "metadata": {},
   "outputs": [],
   "source": [
    "negative_data_sd.to_csv('data/negative_data.csv', index=False)"
   ]
  }
 ],
 "metadata": {
  "kernelspec": {
   "display_name": "base",
   "language": "python",
   "name": "python3"
  },
  "language_info": {
   "codemirror_mode": {
    "name": "ipython",
    "version": 3
   },
   "file_extension": ".py",
   "mimetype": "text/x-python",
   "name": "python",
   "nbconvert_exporter": "python",
   "pygments_lexer": "ipython3",
   "version": "3.9.16"
  },
  "orig_nbformat": 4
 },
 "nbformat": 4,
 "nbformat_minor": 2
}
