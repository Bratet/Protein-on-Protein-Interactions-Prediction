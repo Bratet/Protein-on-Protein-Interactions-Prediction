{
 "cells": [
  {
   "attachments": {},
   "cell_type": "markdown",
   "metadata": {},
   "source": [
    "# Protein Protein Interactions Prediction"
   ]
  },
  {
   "attachments": {},
   "cell_type": "markdown",
   "metadata": {},
   "source": [
    "## Feature extraction:"
   ]
  },
  {
   "attachments": {},
   "cell_type": "markdown",
   "metadata": {},
   "source": [
    "Now that we have the protein sequences and their corresponding PSSM matrices, we can start extarcting the features used to train our model.\n",
    "\n",
    "First we start by loading our JSON parsed data into numpy arrays so that we can perform mathematical computations on them more easily.\n",
    "\n",
    "The result is a dictionnary in the format `{seq : pssm}` that we can use to extract features from either sequence or the pssm matrix."
   ]
  },
  {
   "cell_type": "code",
   "execution_count": 1,
   "metadata": {},
   "outputs": [],
   "source": [
    "import psycopg2\n",
    "import os\n",
    "from dotenv.main import load_dotenv\n",
    "from urllib.parse import urlparse"
   ]
  },
  {
   "cell_type": "code",
   "execution_count": 2,
   "metadata": {},
   "outputs": [],
   "source": [
    "# Reading the DB API info from the .env file\n",
    "load_dotenv()\n",
    "URI = urlparse(os.getenv(\"DB_URI\"))"
   ]
  },
  {
   "cell_type": "code",
   "execution_count": 5,
   "metadata": {},
   "outputs": [
    {
     "ename": "ProgramLimitExceeded",
     "evalue": "index row requires 10296 bytes, maximum size is 8191\n",
     "output_type": "error",
     "traceback": [
      "\u001b[1;31m---------------------------------------------------------------------------\u001b[0m",
      "\u001b[1;31mProgramLimitExceeded\u001b[0m                      Traceback (most recent call last)",
      "Cell \u001b[1;32mIn[5], line 6\u001b[0m\n\u001b[0;32m      2\u001b[0m \u001b[39mwith\u001b[39;00m psycopg2\u001b[39m.\u001b[39mconnect(URI\u001b[39m.\u001b[39mgeturl()) \u001b[39mas\u001b[39;00m conn:\n\u001b[0;32m      3\u001b[0m     \u001b[39mwith\u001b[39;00m conn\u001b[39m.\u001b[39mcursor() \u001b[39mas\u001b[39;00m cur:\n\u001b[0;32m      4\u001b[0m         \n\u001b[0;32m      5\u001b[0m         \u001b[39m# add unique constraint to the sequence column\u001b[39;00m\n\u001b[1;32m----> 6\u001b[0m         cur\u001b[39m.\u001b[39;49mexecute(\u001b[39m\"\u001b[39;49m\u001b[39mALTER TABLE pssms ADD CONSTRAINT unique_sequence UNIQUE (sequence);\u001b[39;49m\u001b[39m\"\u001b[39;49m)\n",
      "\u001b[1;31mProgramLimitExceeded\u001b[0m: index row requires 10296 bytes, maximum size is 8191\n"
     ]
    }
   ],
   "source": [
    "# connecting to the database\n",
    "with psycopg2.connect(URI.geturl()) as conn:\n",
    "    with conn.cursor() as cur:\n",
    "        \n",
    "        pass"
   ]
  }
 ],
 "metadata": {
  "kernelspec": {
   "display_name": "main",
   "language": "python",
   "name": "python3"
  },
  "language_info": {
   "codemirror_mode": {
    "name": "ipython",
    "version": 3
   },
   "file_extension": ".py",
   "mimetype": "text/x-python",
   "name": "python",
   "nbconvert_exporter": "python",
   "pygments_lexer": "ipython3",
   "version": "3.10.11"
  },
  "orig_nbformat": 4
 },
 "nbformat": 4,
 "nbformat_minor": 2
}
