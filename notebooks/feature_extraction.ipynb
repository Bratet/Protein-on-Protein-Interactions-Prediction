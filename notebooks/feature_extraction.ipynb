{
 "cells": [
  {
   "attachments": {},
   "cell_type": "markdown",
   "metadata": {},
   "source": [
    "# Protein Protein Interactions Prediction"
   ]
  },
  {
   "attachments": {},
   "cell_type": "markdown",
   "metadata": {},
   "source": [
    "## Feature extraction:"
   ]
  },
  {
   "attachments": {},
   "cell_type": "markdown",
   "metadata": {},
   "source": [
    "Now that we have the protein sequences and their corresponding PSSM matrices, we can start extarcting the features used to train our model.\n",
    "\n",
    "First we start by loading our JSON parsed data into numpy arrays so that we can perform mathematical computations on them more easily.\n",
    "\n",
    "The result is a dictionnary in the format `{seq : pssm}` that we can use to extract features from either sequence or the pssm matrix."
   ]
  },
  {
   "cell_type": "markdown",
   "metadata": {},
   "source": []
  }
 ],
 "metadata": {
  "language_info": {
   "name": "python"
  },
  "orig_nbformat": 4
 },
 "nbformat": 4,
 "nbformat_minor": 2
}
