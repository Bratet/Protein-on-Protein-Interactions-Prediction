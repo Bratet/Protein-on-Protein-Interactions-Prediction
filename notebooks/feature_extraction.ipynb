{
 "cells": [
  {
   "attachments": {},
   "cell_type": "markdown",
   "metadata": {},
   "source": [
    "# Protein Protein Interactions Prediction"
   ]
  },
  {
   "attachments": {},
   "cell_type": "markdown",
   "metadata": {},
   "source": [
    "## Feature extraction:"
   ]
  },
  {
   "attachments": {},
   "cell_type": "markdown",
   "metadata": {},
   "source": [
    "Now that we have the protein sequences and their corresponding PSSM matrices, we can start extarcting the features used to train our model.\n",
    "\n",
    "First we start by loading our JSON parsed data into numpy arrays so that we can perform mathematical computations on them more easily.\n",
    "\n",
    "The result is a dictionnary in the format `{seq : pssm}` that we can use to extract features from either sequence or the pssm matrix."
   ]
  },
  {
   "cell_type": "code",
   "execution_count": 1,
   "metadata": {},
   "outputs": [],
   "source": [
    "import psycopg2\n",
    "import os\n",
    "from dotenv.main import load_dotenv\n",
    "from urllib.parse import urlparse"
   ]
  },
  {
   "cell_type": "code",
   "execution_count": 3,
   "metadata": {},
   "outputs": [],
   "source": [
    "# Reading the DB API info from the .env file\n",
    "load_dotenv()\n",
    "URI = urlparse(os.getenv(\"DB_URI\"))"
   ]
  },
  {
   "cell_type": "code",
   "execution_count": 5,
   "metadata": {},
   "outputs": [
    {
     "name": "stderr",
     "output_type": "stream",
     "text": [
      "100%|██████████| 1000/1000 [00:00<00:00, 1474.91it/s]\n"
     ]
    }
   ],
   "source": [
    "# connecting to the database\n",
    "with psycopg2.connect(URI.geturl()) as conn:\n",
    "    with conn.cursor() as cur:\n",
    "        \n",
    "        pass"
   ]
  }
 ],
 "metadata": {
  "kernelspec": {
   "display_name": "main",
   "language": "python",
   "name": "python3"
  },
  "language_info": {
   "codemirror_mode": {
    "name": "ipython",
    "version": 3
   },
   "file_extension": ".py",
   "mimetype": "text/x-python",
   "name": "python",
   "nbconvert_exporter": "python",
   "pygments_lexer": "ipython3",
   "version": "3.10.11"
  },
  "orig_nbformat": 4
 },
 "nbformat": 4,
 "nbformat_minor": 2
}
