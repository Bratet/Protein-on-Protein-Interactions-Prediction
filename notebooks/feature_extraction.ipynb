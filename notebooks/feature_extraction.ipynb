{
 "cells": [
  {
   "attachments": {},
   "cell_type": "markdown",
   "metadata": {},
   "source": [
    "# Protein Protein Interactions Prediction"
   ]
  },
  {
   "attachments": {},
   "cell_type": "markdown",
   "metadata": {},
   "source": [
    "## Feature extraction:"
   ]
  },
  {
   "attachments": {},
   "cell_type": "markdown",
   "metadata": {},
   "source": [
    "Now that we have the protein sequences and their corresponding PSSM matrices, we can start extarcting the features used to train our model.\n",
    "\n",
    "First we start by loading our JSON parsed data into numpy arrays so that we can perform mathematical computations on them more easily.\n",
    "\n",
    "The result is a dictionnary in the format `{seq : pssm}` that we can use to extract features from either sequence or the pssm matrix."
   ]
  },
  {
   "cell_type": "code",
   "execution_count": 5,
   "metadata": {},
   "outputs": [],
   "source": [
    "import psycopg2\n",
    "import os\n",
    "import numpy as np\n",
    "from tqdm import tqdm\n",
    "from dotenv.main import load_dotenv\n",
    "from urllib.parse import urlparse"
   ]
  },
  {
   "cell_type": "code",
   "execution_count": 3,
   "metadata": {},
   "outputs": [],
   "source": [
    "# Reading the DB API info from the .env file\n",
    "load_dotenv()\n",
    "URI = urlparse(os.getenv(\"DB_URI\"))"
   ]
  },
  {
   "attachments": {},
   "cell_type": "markdown",
   "metadata": {},
   "source": [
    "## First feature vector: Estimation of the distribution of the protein"
   ]
  },
  {
   "cell_type": "code",
   "execution_count": null,
   "metadata": {},
   "outputs": [],
   "source": [
    "# connecting to the database\n",
    "with psycopg2.connect(URI.geturl()) as conn:\n",
    "    with conn.cursor() as cur:\n",
    "\n",
    "        # add a new column to the table\n",
    "        # cur.execute(\"ALTER TABLE PSSMS ADD COLUMN pssm_sum NUMERIC[]\")\n",
    "        \n",
    "        # get all the proteins in the database\n",
    "        print(\"Fetching all the proteins...\")\n",
    "        cur.execute(\"SELECT sequence, pssm FROM PSSMS\")\n",
    "\n",
    "        # fetch all the proteins\n",
    "        proteins = cur.fetchall()\n",
    "        print(\"Done!\")\n",
    "\n",
    "        # for each protein in the DB, get the sum column wise\n",
    "        for protein in tqdm(proteins):\n",
    "            seq, pssm = protein\n",
    "\n",
    "            # converting the pssm to a numpy array for easier manipulation\n",
    "            pssm_np = np.array(pssm)\n",
    "\n",
    "            # summing the columns\n",
    "            pssm_sum = np.sum(pssm_np, axis=0)\n",
    "\n",
    "            # converting the numpy array to a list\n",
    "            pssm_sum = pssm_sum.tolist()\n",
    "\n",
    "            # updating the database\n",
    "            cur.execute(\"UPDATE PSSMS SET pssm_sum = %s WHERE sequence = %s\", (pssm_sum, seq))"
   ]
  },
  {
   "attachments": {},
   "cell_type": "markdown",
   "metadata": {},
   "source": [
    "### Normalizing the data:"
   ]
  },
  {
   "attachments": {},
   "cell_type": "markdown",
   "metadata": {},
   "source": [
    "To avoid biases, we can normalize the 20-length vectors that we generated using the following formula: `d_i = (d_i - min)/(L * max)`"
   ]
  },
  {
   "cell_type": "code",
   "execution_count": 15,
   "metadata": {},
   "outputs": [
    {
     "name": "stdout",
     "output_type": "stream",
     "text": [
      "Fetching all the proteins...\n",
      "Done!\n"
     ]
    },
    {
     "name": "stderr",
     "output_type": "stream",
     "text": [
      "100%|██████████| 10037/10037 [13:17<00:00, 12.58it/s]\n"
     ]
    }
   ],
   "source": [
    "# connecting to the database\n",
    "with psycopg2.connect(URI.geturl()) as conn:\n",
    "    with conn.cursor() as cur:\n",
    "\n",
    "        # get all the proteins in the database\n",
    "        print(\"Fetching all the proteins...\")\n",
    "        cur.execute(\"SELECT sequence, pssm_sum FROM PSSMS\")\n",
    "\n",
    "        # fetch all the proteins\n",
    "        proteins = cur.fetchall()\n",
    "        print(\"Done!\")\n",
    "        \n",
    "        # get the max and min values for each position\n",
    "        pssm_sum_matrix = np.array([protein[1] for protein in proteins])\n",
    "        pssm_sum_max = np.max(pssm_sum_matrix, axis=0)\n",
    "        pssm_sum_min = np.min(pssm_sum_matrix, axis=0)\n",
    "        \n",
    "        # normalize the pssm_sum vector\n",
    "        for protein in tqdm(proteins):\n",
    "            seq, pssm_sum = protein\n",
    "            L = len(seq)\n",
    "\n",
    "            # converting the pssm to a numpy array for easier manipulation\n",
    "            pssm_sum = np.array(pssm_sum)\n",
    "\n",
    "            # normalizing the values\n",
    "            pssm_sum_norm = (pssm_sum - pssm_sum_min) / (pssm_sum_max * L)\n",
    "\n",
    "            # converting the numpy array to a list\n",
    "            pssm_sum_norm = pssm_sum_norm.tolist()\n",
    "\n",
    "            # updating the database\n",
    "            cur.execute(\"UPDATE PSSMS SET pssm_sum = %s WHERE sequence = %s\", (pssm_sum_norm, seq))"
   ]
  },
  {
   "cell_type": "code",
   "execution_count": 16,
   "metadata": {},
   "outputs": [
    {
     "name": "stdout",
     "output_type": "stream",
     "text": [
      "MEEVVIAGMSGKLPESENLQEFWDNLIGGVDMVTDDDRRWKAGLYGLPRRSGKLKDLSRFDASFFGVHPKQAHTMDPQLRLLLEVTYEAIVDGGINPDSLRGTHTGVWVGVSGSETSEALSRDPETLVGYSMVGCQRAMMANRLSFFFDFRGPSIALDTACSSSLMALQNAYQAIHSGQCPAAIVGGINVLLKPNTSVQFLRLGMLSPEGTCKAFDTAGNGYCRSEGVVAVLLTKKSLARRVYATILNAGTNTDGFKEQGVTFPSGDIQEQLIRSLYQSAGVAPESFEYIEAHGTGTKVGDPQELNGITRALCATRQEPLLIGSTKSNMGHPEPASGLAALAKVLLSLEHGLWAPNLHFHSPNPEIPALLDGRLQVVDQPLPVRGGNVGINSFGFGGSNVHIILRPNTQPPPAPAPHATLPRLLRASGRTPEAVQKLLEQGLRHSQDLAFLSMLNDIAAVPATAMPFRGYAVLGGERGGPEVQQVPAGERPLWFICSGMGTQWRGMGLSLMRLDRFRDSILRSDEAVKPFGLKVSQLLLSTDESTFDDIVHSFVSLTAIQIGLIDLLSCMGLRPDGIVGHSLGEVACGYADGCLSQEEAVLAAYWRGQCIKEAHLPPGAMAAVGLSWEECKQRCPPGVVPACHNSKDTVTISGPQAPVFEFVEQLRKEGVFAKEVRTGGMAFHSYFMEAIAPPLLQELKKVIREPKPRSARWLSTSIPEAQWHSSLARTSSAEYNVNNLVSPVLFQEALWHVPEHAVVLEIAPHALLQAVLKRGLKPSCTIIPLMKKDHRDNLEFFLAGIGRLHLSGIDANPNALFPPVEFPAPRGTPLISPLIKWDHSLAWDVPAAEDFPNGSGSPSAAIYNIDTSSESPDHYLVDHTLDGRVLFPATGYLSIVWKTLARALGLGVEQLPVVFEDVVLHQATILPKTGTVSLEVRLLEASRAFEVSENGNLVVSGKVYQWDDPDPRLFDHPESPTPNPTEPLFLAQAEVYKELRLRGYDYGPHFQGILEASLEGDSGRLLWKDNWVSFMDTMLQMSILGSAKHGLYLPTRVTAIHIDPATHRQKLYTLQDKAQVADVVVSRWLRVTVAGGVHISGLHTESAPRRQQEQQVPILEKFCFTPHTEEGCLSERAALQEELQLCKGLVQALQTKVTQQGLKMVVPGLDGAQIPRDPSQQELPRLLSAACRLQLNGNLQLELAQVLAQERPKLPEDPLLSGLLDSPALKACLDTAVENMPSLKMKVVEVLAGHGHLYSRIPGLLSPHPLLQLSYTATDRHPQALEAAQAELQQHDVAQGQWDPADPAPSALGSADLLVCNCAVAALGDPASALSNMVAALREGGFLLLHTLLRGHPLGDIVAFLTSTEPQYGQGILSQDAWESLFSRVSLRLVGLKKSFYGSTLFLCRRPTPQDSPIFLPVDDTSFRWVESLKGILADEDSSRPVWLKAINCATSGVVGLVNCLRREPGGNRLRCVLLSNLSSTSHVPEVDPGSAELQKVLQGDLVMNVYRDGAWGAFRHFLLEEDKPEEPTAHAFVSTLTRGDLSSIRWVCSSLRHAQPTCPGAQLCTVYYASLNFRDIMLATGKLSPDAIPGKWTSQDSLLGMEFSGRDASGKRVMGLVPAKGLATSVLLSPDFLWDVPSNWTLEEAASVPVVYSTAYYALVVRGRVRPGETLLIHSGSGGVGQAAIAIALSLGCRVFTTVGSAEKRAYLQARFPQLDSTSFANSRDTSFEQHVLWHTGGKGVDLVLNSLAEEKLQASVRCLATHGRFLEIGKFDLSQNHPLGMAIFLKNVTFHGVLLDAFFNESSADWREVWALVQAGIRDGVVRPLKCTVFHGAQVEDAFRYMAQGKHIGKVVVQVLAEEPEAVLKGAKPKLMSAISKTFCPAHKSYIIAGGLGGFGLELAQWLIQRGVQKLVLTSRSGIRTGYQAKQVRRWRRQGVQVQVSTSNISSLEGARGLIAEAAQLGPVGGVFNLAVVLRDGLLENQTPEFFQDVCKPKYSGTLNLDRVTREACPELDYFVVFSSVSCGRGNAGQSNYGFANSAMERICEKRRHEGLPGLAVQWGAIGDVGILVETMSTNDTIVSGTLPQRMASCLEVLDLFLNQPHMVLSSFVLAEKAAAYRDRDSQRDLVEAVAHILGIRDLAAVNLDSSLADLGLDSLMSVEVRQTLERELNLVLSVREVRQLTLRKLQELSSKADEASELACPTPKEDGLAQQQTQLNLRSLLVNPEGPTLMRLNSVQSSERPLFLVHPIEGSTTVFHSLASRLSIPTYGLQCTRAAPLDSIHSLAAYYIDCIRQVQPEGPYRVAGYSYGACVAFEMCSQLQAQQSPAPTHNSLFLFDGSPTYVLAYTQSYRAKLTPGCEAEAETEAICFFVQQFTDMEHNRVLEALLPLKGLEERVAAAVDLIIKSHQGLDRQELSFAARSFYYKLRAAEQYTPKAKYHGNVMLLRAKTGGAYGEDLGADYNLSQVCDGKVSVHVIEGDHRTLLEGSGLESIISIIHSSLAEPRVSVREG\n",
      "\n",
      "[Decimal('0.009686229233030551730213709098'), Decimal('0.004291859619327850021887167537'), Decimal('0.02514794775598830115644032499'), Decimal('0.01395806196204633106019972927'), Decimal('0.003968792409496062404047699731'), Decimal('0.0005180005180005180005180005180'), Decimal('0.0002781267541068504369689708382'), Decimal('0.007157315152777321071688241462'), Decimal('0.005893616307188423067088650079'), Decimal('0.1241092384995382021234228967'), Decimal('0.1087330852164146818745720270'), Decimal('0.001046013050173162943161997682'), Decimal('0.04433935129873003230231426169'), Decimal('0.1919022965617947696800743396'), Decimal('0.0005531197387752704988860637384'), Decimal('0.0001028420809334183590020364062'), Decimal('0.00005539167185013046759876362106'), Decimal('-0.8829755137998865597431905676'), Decimal('-16.23855037833532457188371167'), Decimal('2.231581043409000398247710076')]\n"
     ]
    }
   ],
   "source": [
    "# connecting to the database\n",
    "with psycopg2.connect(URI.geturl()) as conn:\n",
    "    with conn.cursor() as cur:\n",
    "\n",
    "        # get a random protein and show it's pssm_sum\n",
    "        cur.execute(\"SELECT sequence, pssm_sum FROM PSSMS LIMIT 1\")\n",
    "\n",
    "        for protein in cur.fetchall():\n",
    "            \n",
    "            # fetch the protein\n",
    "            seq, pssm_sum = protein\n",
    "\n",
    "            # print the protein\n",
    "            print(seq)\n",
    "            print()\n",
    "            print(pssm_sum)\n"
   ]
  },
  {
   "attachments": {},
   "cell_type": "markdown",
   "metadata": {},
   "source": [
    "## Second feature vector: (Idk fih hhhhhhhh)"
   ]
  }
 ],
 "metadata": {
  "kernelspec": {
   "display_name": "main",
   "language": "python",
   "name": "python3"
  },
  "language_info": {
   "codemirror_mode": {
    "name": "ipython",
    "version": 3
   },
   "file_extension": ".py",
   "mimetype": "text/x-python",
   "name": "python",
   "nbconvert_exporter": "python",
   "pygments_lexer": "ipython3",
   "version": "3.10.11"
  },
  "orig_nbformat": 4
 },
 "nbformat": 4,
 "nbformat_minor": 2
}
