{
 "cells": [
  {
   "attachments": {},
   "cell_type": "markdown",
   "metadata": {},
   "source": [
    "# Protein Protein Interactions Prediction"
   ]
  },
  {
   "attachments": {},
   "cell_type": "markdown",
   "metadata": {},
   "source": [
    "## Amino Acid sequence generation:"
   ]
  },
  {
   "attachments": {},
   "cell_type": "markdown",
   "metadata": {},
   "source": [
    "The `dbs/HPRD/pos_inter.csv` file contanins a database of known positive protein-protein interactions. The problem lies in the fact that these proteins are registered as gene symbols, whereas any feature extraction operation requires the complete amino acid sequence of the protein.\n",
    "\n",
    "The goal of this notebook is to extract all the gene symbols present in the HPRD database (`data/symbol_data.csv`) and encode them as AA sequences using the NCBI repository."
   ]
  },
  {
   "cell_type": "code",
   "execution_count": null,
   "metadata": {},
   "outputs": [],
   "source": [
    "from utils.db_utils import DBUtils\n",
    "from utils.pssm_utils import PSSMUtils\n",
    "import os\n",
    "from tqdm import tqdm\n",
    "import numpy as np"
   ]
  },
  {
   "attachments": {},
   "cell_type": "markdown",
   "metadata": {},
   "source": [
    "To do so, we call on the function `generate_protein_fasta()` to generate a `.fasta` file that contains the proteins' RefSeq Ids and their corresponding AA sequences"
   ]
  },
  {
   "cell_type": "code",
   "execution_count": null,
   "metadata": {},
   "outputs": [],
   "source": [
    "# create an instance of the DBUtils class\n",
    "db_utils = DBUtils()"
   ]
  },
  {
   "cell_type": "code",
   "execution_count": null,
   "metadata": {},
   "outputs": [],
   "source": [
    "db_utils.generate_protein_fasta()"
   ]
  },
  {
   "attachments": {},
   "cell_type": "markdown",
   "metadata": {},
   "source": [
    "Now that we have such a file, we can go ahead with the feature extraction, starting with the PSSM matrix."
   ]
  },
  {
   "attachments": {},
   "cell_type": "markdown",
   "metadata": {},
   "source": [
    "## PSSM matrix generation:"
   ]
  },
  {
   "attachments": {},
   "cell_type": "markdown",
   "metadata": {},
   "source": [
    "To generate the PSSM matrix of each protein sequence, we first need to have a database to use with the PSI BLAST tool.\n",
    "\n",
    "For this project, we chose the SwissProt database for two reasons:\n",
    "<ul>\n",
    "    <li>The database is peer reviewed and contains only valid information\n",
    "    <li>The database is relatively small (~200MBs) compared to ther options</li>\n",
    "</ul>"
   ]
  },
  {
   "attachments": {},
   "cell_type": "markdown",
   "metadata": {},
   "source": [
    "To do so, we make call on the function `generate_swissprot_db()` that makes use of the `makeblastdb` command line tool"
   ]
  },
  {
   "attachments": {},
   "cell_type": "markdown",
   "metadata": {},
   "source": [
    "This should generate some additional files in the `../dbs/SwissProt/` directory"
   ]
  },
  {
   "cell_type": "code",
   "execution_count": null,
   "metadata": {},
   "outputs": [],
   "source": [
    "db_utils.generate_swissprot_db()"
   ]
  },
  {
   "attachments": {},
   "cell_type": "markdown",
   "metadata": {},
   "source": [
    "Once this step complete, we can proceed to generate the PSSM matrices of our generated sequences in `./dbs/generated/sequences.fasta` with the `generate_pssm()` function that makes use of the `PSI-BLAST` command line tool"
   ]
  },
  {
   "attachments": {},
   "cell_type": "markdown",
   "metadata": {},
   "source": [
    "We use the following default values as our parameters:\n",
    "\n",
    "<ul>\n",
    "    <li>e value: 0.001</li>\n",
    "    <li>N of iterations: 3</li>\n",
    "    <li>N of threads: 16</li>\n",
    "</ul>"
   ]
  },
  {
   "cell_type": "code",
   "execution_count": null,
   "metadata": {},
   "outputs": [],
   "source": [
    "db_utils.generate_pssm_matrices()"
   ]
  },
  {
   "attachments": {},
   "cell_type": "markdown",
   "metadata": {},
   "source": [
    "This will generate multiple txt files in the `../dbs/generated/pssms`, one for each protein sequence. We will use these files to read the pccm matrix and put it in numpy arrays"
   ]
  },
  {
   "cell_type": "code",
   "execution_count": null,
   "metadata": {},
   "outputs": [],
   "source": [
    "# create an instance of the PSSMUtils class\n",
    "pssm_utils = PSSMUtils()"
   ]
  },
  {
   "cell_type": "code",
   "execution_count": null,
   "metadata": {},
   "outputs": [],
   "source": [
    "# get all the files in the pssm directory\n",
    "pssm_files = os.listdir('../dbs/generated/pssms/')\n",
    "parsed_pssms = {}\n",
    "for file in tqdm(pssm_files):\n",
    "\n",
    "    # we parse the pssm file and get the sequence and the pssm matrix\n",
    "    # the matrix is parsed into a list of lists, this is done so that can be serialized into a json file\n",
    "    # we will convert them to numpy arrays when we will use them\n",
    "    seq, pssm = pssm_utils.pssm_file_to_2Darray('../dbs/generated/pssms/' + file)\n",
    "    seq_id = int(file.split('.')[1])\n",
    "    \n",
    "    # check if the sequence has already been parsed\n",
    "    # if yes, take the parsing with the bigger id\n",
    "    # this ensures that we take the pssm matrix generated on the after all the iterations of the blast\n",
    "    # (because for some reason, PSI-BLAST generates multiple pssm files for the same sequence)\n",
    "    if seq in parsed_pssms:\n",
    "        if seq_id > parsed_pssms[seq][1]:\n",
    "            parsed_pssms[seq] = (pssm, seq_id)\n",
    "    else:\n",
    "        parsed_pssms[seq] = (pssm, seq_id)"
   ]
  },
  {
   "cell_type": "code",
   "execution_count": null,
   "metadata": {},
   "outputs": [],
   "source": [
    "# print the number of parsed pssms\n",
    "print(len(parsed_pssms))\n",
    "\n",
    "# we can get rid of the seq_id now\n",
    "parsed_pssms = {k: v[0] for k, v in parsed_pssms.items()}\n",
    "\n",
    "# save the parsed pssms as json file, so that we don't have to parse them again\n",
    "pssm_utils.save_parsed_pssms(parsed_pssms)"
   ]
  },
  {
   "attachments": {},
   "cell_type": "markdown",
   "metadata": {},
   "source": [
    "## Feature extraction:"
   ]
  },
  {
   "attachments": {},
   "cell_type": "markdown",
   "metadata": {},
   "source": [
    "Now that we have the protein sequences and their corresponding PSSM matrices, we can start extarcting the features used to train our model.\n",
    "\n",
    "First we start by loading our JSON parsed data into numpy arrays so that we can perform mathematical computations on them more easily.\n",
    "\n",
    "The result is a dictionnary in the format `{seq : pssm}` that we can use to extract features from either sequence or the pssm matrix."
   ]
  },
  {
   "cell_type": "code",
   "execution_count": null,
   "metadata": {},
   "outputs": [],
   "source": [
    "seq_pssm = pssm_utils.load_parsed_pssms_into_nparrays()\n",
    "\n",
    "# print the number of parsed pssms\n",
    "print(\"Number of sequences loaded: \", len(seq_pssm))"
   ]
  },
  {
   "cell_type": "code",
   "execution_count": null,
   "metadata": {},
   "outputs": [],
   "source": [
    "# print a random example of a parsed pssm\n",
    "example = list(seq_pssm.items())[np.random.randint(0, len(seq_pssm))]\n",
    "\n",
    "print(\"Sequence:\")\n",
    "print(example[0])\n",
    "print()\n",
    "print(\"PSSM:\")\n",
    "print(example[1])"
   ]
  }
 ],
 "metadata": {
  "kernelspec": {
   "display_name": "main",
   "language": "python",
   "name": "python3"
  },
  "language_info": {
   "codemirror_mode": {
    "name": "ipython",
    "version": 3
   },
   "file_extension": ".py",
   "mimetype": "text/x-python",
   "name": "python",
   "nbconvert_exporter": "python",
   "pygments_lexer": "ipython3",
   "version": "3.9.13"
  },
  "orig_nbformat": 4
 },
 "nbformat": 4,
 "nbformat_minor": 2
}
