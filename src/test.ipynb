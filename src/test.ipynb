{
 "cells": [
  {
   "cell_type": "code",
   "execution_count": 1,
   "metadata": {},
   "outputs": [],
   "source": [
    "import warnings\n",
    "warnings.filterwarnings(\"ignore\", category=FutureWarning)\n",
    "\n",
    "import pandas as pd"
   ]
  },
  {
   "cell_type": "code",
   "execution_count": 2,
   "metadata": {},
   "outputs": [],
   "source": [
    "from utils import ProteinInteractionGraph"
   ]
  },
  {
   "cell_type": "code",
   "execution_count": 3,
   "metadata": {},
   "outputs": [],
   "source": [
    "# Instantiate the ProteinInteractionGraph class\n",
    "protein_interaction_graph = ProteinInteractionGraph()\n",
    "\n",
    "# Access the adjacency matrix and node features\n",
    "adjacency_matrix = protein_interaction_graph.adjacency_matrix\n",
    "node_features = protein_interaction_graph.node_features\n",
    "\n",
    "# Generate negative interactions\n",
    "negative_interactions = protein_interaction_graph.most_distant()"
   ]
  },
  {
   "cell_type": "code",
   "execution_count": 6,
   "metadata": {},
   "outputs": [],
   "source": [
    "# Split the combined dataset into training and test sets\n",
    "from sklearn.model_selection import train_test_split\n",
    "\n",
    "train_df, test_df = train_test_split(combined_df, test_size=0.3, random_state=42)\n"
   ]
  },
  {
   "cell_type": "code",
   "execution_count": 7,
   "metadata": {},
   "outputs": [
    {
     "name": "stderr",
     "output_type": "stream",
     "text": [
      "c:\\Users\\AHMED MRABET\\anaconda3\\envs\\torch\\lib\\site-packages\\tqdm\\auto.py:21: TqdmWarning: IProgress not found. Please update jupyter and ipywidgets. See https://ipywidgets.readthedocs.io/en/stable/user_install.html\n",
      "  from .autonotebook import tqdm as notebook_tqdm\n"
     ]
    }
   ],
   "source": [
    "import torch\n",
    "from torch_geometric.data import Data\n",
    "\n",
    "def dataframe_to_dataset(df, protein_interaction_graph):\n",
    "    x = torch.tensor(protein_interaction_graph.node_features, dtype=torch.float)\n",
    "    edge_index = torch.tensor(protein_interaction_graph.adjacency_matrix.nonzero(), dtype=torch.long)\n",
    "    y = torch.tensor(df['Label'].values, dtype=torch.float)\n",
    "    mask = torch.tensor(df.index, dtype=torch.long)\n",
    "    dataset = Data(x=x, edge_index=edge_index, y=y, mask=mask)\n",
    "    return dataset\n"
   ]
  },
  {
   "cell_type": "code",
   "execution_count": 8,
   "metadata": {},
   "outputs": [
    {
     "name": "stderr",
     "output_type": "stream",
     "text": [
      "C:\\Users\\AHMED MRABET\\AppData\\Local\\Temp\\ipykernel_16752\\2559567368.py:6: UserWarning: Creating a tensor from a list of numpy.ndarrays is extremely slow. Please consider converting the list to a single numpy.ndarray with numpy.array() before converting to a tensor. (Triggered internally at C:\\cb\\pytorch_1000000000000\\work\\torch\\csrc\\utils\\tensor_new.cpp:248.)\n",
      "  edge_index = torch.tensor(protein_interaction_graph.adjacency_matrix.nonzero(), dtype=torch.long)\n"
     ]
    }
   ],
   "source": [
    "train_dataset = dataframe_to_dataset(train_df, protein_interaction_graph)\n",
    "test_dataset = dataframe_to_dataset(test_df, protein_interaction_graph)\n"
   ]
  },
  {
   "cell_type": "code",
   "execution_count": 12,
   "metadata": {},
   "outputs": [
    {
     "ename": "IndexError",
     "evalue": "index 33136 is out of bounds for dimension 0 with size 9521",
     "output_type": "error",
     "traceback": [
      "\u001b[1;31m---------------------------------------------------------------------------\u001b[0m",
      "\u001b[1;31mIndexError\u001b[0m                                Traceback (most recent call last)",
      "Cell \u001b[1;32mIn[12], line 11\u001b[0m\n\u001b[0;32m      8\u001b[0m optimizer \u001b[39m=\u001b[39m torch\u001b[39m.\u001b[39moptim\u001b[39m.\u001b[39mAdam(model\u001b[39m.\u001b[39mparameters(), lr\u001b[39m=\u001b[39m\u001b[39m0.001\u001b[39m)\n\u001b[0;32m      9\u001b[0m num_epochs \u001b[39m=\u001b[39m \u001b[39m1000\u001b[39m\n\u001b[1;32m---> 11\u001b[0m model\u001b[39m.\u001b[39;49mtrain_model(train_dataset, criterion, optimizer, num_epochs)\n",
      "File \u001b[1;32mc:\\Users\\AHMED MRABET\\Documents\\ENSIAS-Workspace\\PFA\\Protein-on-Protein-Interactions-Prediction\\src\\model\\GCN.py:40\u001b[0m, in \u001b[0;36mGATModel.train_model\u001b[1;34m(self, dataset, criterion, optimizer, num_epochs)\u001b[0m\n\u001b[0;32m     38\u001b[0m out \u001b[39m=\u001b[39m \u001b[39mself\u001b[39m(dataset)\n\u001b[0;32m     39\u001b[0m out \u001b[39m=\u001b[39m out\u001b[39m.\u001b[39msqueeze(dim\u001b[39m=\u001b[39m\u001b[39m-\u001b[39m\u001b[39m1\u001b[39m)\n\u001b[1;32m---> 40\u001b[0m y_pred \u001b[39m=\u001b[39m out[dataset\u001b[39m.\u001b[39;49mmask]\n\u001b[0;32m     41\u001b[0m loss \u001b[39m=\u001b[39m criterion(y_pred, dataset\u001b[39m.\u001b[39my)\n\u001b[0;32m     42\u001b[0m loss\u001b[39m.\u001b[39mbackward()\n",
      "\u001b[1;31mIndexError\u001b[0m: index 33136 is out of bounds for dimension 0 with size 9521"
     ]
    }
   ],
   "source": [
    "num_features = node_features.shape[1]\n",
    "hidden_dim = 128\n",
    "num_classes = 1  # For binary classification\n",
    "\n",
    "model = GATModel(num_features, hidden_dim, num_classes)\n",
    "\n",
    "criterion = torch.nn.BCEWithLogitsLoss()\n",
    "optimizer = torch.optim.Adam(model.parameters(), lr=0.001)\n",
    "num_epochs = 1000\n",
    "\n",
    "model.train_model(train_dataset, criterion, optimizer, num_epochs)"
   ]
  },
  {
   "cell_type": "code",
   "execution_count": null,
   "metadata": {},
   "outputs": [],
   "source": [
    "accuracy = model.evaluate(test_dataset)\n",
    "\n",
    "print(f\"Accuracy: {accuracy}\")"
   ]
  }
 ],
 "metadata": {
  "kernelspec": {
   "display_name": "base",
   "language": "python",
   "name": "python3"
  },
  "language_info": {
   "codemirror_mode": {
    "name": "ipython",
    "version": 3
   },
   "file_extension": ".py",
   "mimetype": "text/x-python",
   "name": "python",
   "nbconvert_exporter": "python",
   "pygments_lexer": "ipython3",
   "version": "3.9.0"
  },
  "orig_nbformat": 4
 },
 "nbformat": 4,
 "nbformat_minor": 2
}
