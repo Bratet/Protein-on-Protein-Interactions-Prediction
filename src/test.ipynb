{
 "cells": [
  {
   "cell_type": "code",
   "execution_count": 1,
   "metadata": {},
   "outputs": [],
   "source": [
    "import warnings\n",
    "warnings.filterwarnings(\"ignore\", category=UserWarning)\n",
    "warnings.filterwarnings(\"ignore\", category=FutureWarning)"
   ]
  },
  {
   "cell_type": "code",
   "execution_count": 2,
   "metadata": {},
   "outputs": [
    {
     "name": "stderr",
     "output_type": "stream",
     "text": [
      "c:\\Users\\AHMED MRABET\\anaconda3\\envs\\torch\\lib\\site-packages\\tqdm\\auto.py:22: TqdmWarning: IProgress not found. Please update jupyter and ipywidgets. See https://ipywidgets.readthedocs.io/en/stable/user_install.html\n",
      "  from .autonotebook import tqdm as notebook_tqdm\n"
     ]
    }
   ],
   "source": [
    "from utils import ProteinInteractionGraph\n",
    "from model import ProteinInteractionDataPreparation"
   ]
  },
  {
   "cell_type": "code",
   "execution_count": 3,
   "metadata": {},
   "outputs": [],
   "source": [
    "# Create a graph of protein interactions\n",
    "interacation_graph = ProteinInteractionGraph(negative_interaction_method='most_distant')"
   ]
  },
  {
   "cell_type": "code",
   "execution_count": 4,
   "metadata": {},
   "outputs": [],
   "source": [
    "# Convert the graph to a format suitable for the model\n",
    "data_preparation = ProteinInteractionDataPreparation(interacation_graph.graph, interacation_graph.adjacency_matrix, interacation_graph.node_features, batch_size=64, train_ratio=0.8, val_ratio=0.1)\n",
    "node_features_tensor, train_loader, val_loader, test_loader = data_preparation.get_data_loaders()"
   ]
  },
  {
   "cell_type": "code",
   "execution_count": 5,
   "metadata": {},
   "outputs": [],
   "source": [
    "import torch\n",
    "import torch.nn as nn\n",
    "import torch.optim as optim\n",
    "from model import GNN"
   ]
  },
  {
   "cell_type": "code",
   "execution_count": 6,
   "metadata": {},
   "outputs": [],
   "source": [
    "num_node_features = node_features_tensor.shape[1]\n",
    "model = GNN(num_node_features, hidden_channels=64, out_channels=1)"
   ]
  },
  {
   "cell_type": "code",
   "execution_count": 7,
   "metadata": {},
   "outputs": [],
   "source": [
    "device = torch.device('cuda' if torch.cuda.is_available() else 'cpu')\n",
    "node_features_tensor = node_features_tensor.to(device)\n",
    "model = model.to(device)"
   ]
  },
  {
   "cell_type": "code",
   "execution_count": 8,
   "metadata": {},
   "outputs": [],
   "source": [
    "optimizer = optim.Adam(model.parameters(), lr=0.001)\n",
    "criterion = nn.BCELoss()"
   ]
  },
  {
   "cell_type": "code",
   "execution_count": 9,
   "metadata": {},
   "outputs": [
    {
     "ename": "RuntimeError",
     "evalue": "The expanded size of the tensor (10276) must match the existing size (64) at non-singleton dimension 0.  Target sizes: [10276, 64].  Tensor sizes: [64, 1]",
     "output_type": "error",
     "traceback": [
      "\u001b[1;31m---------------------------------------------------------------------------\u001b[0m",
      "\u001b[1;31mRuntimeError\u001b[0m                              Traceback (most recent call last)",
      "Cell \u001b[1;32mIn[9], line 10\u001b[0m\n\u001b[0;32m      8\u001b[0m edge_indices, edge_labels, batch \u001b[39m=\u001b[39m edge_indices\u001b[39m.\u001b[39mto(device), edge_labels\u001b[39m.\u001b[39mto(device), batch\u001b[39m.\u001b[39mto(device)\n\u001b[0;32m      9\u001b[0m optimizer\u001b[39m.\u001b[39mzero_grad()\n\u001b[1;32m---> 10\u001b[0m out \u001b[39m=\u001b[39m model(node_features_tensor, edge_indices\u001b[39m.\u001b[39;49mt(), batch)\n\u001b[0;32m     11\u001b[0m loss \u001b[39m=\u001b[39m criterion(out, edge_labels)\n\u001b[0;32m     12\u001b[0m loss\u001b[39m.\u001b[39mbackward()\n",
      "File \u001b[1;32mc:\\Users\\AHMED MRABET\\anaconda3\\envs\\torch\\lib\\site-packages\\torch\\nn\\modules\\module.py:1501\u001b[0m, in \u001b[0;36mModule._call_impl\u001b[1;34m(self, *args, **kwargs)\u001b[0m\n\u001b[0;32m   1496\u001b[0m \u001b[39m# If we don't have any hooks, we want to skip the rest of the logic in\u001b[39;00m\n\u001b[0;32m   1497\u001b[0m \u001b[39m# this function, and just call forward.\u001b[39;00m\n\u001b[0;32m   1498\u001b[0m \u001b[39mif\u001b[39;00m \u001b[39mnot\u001b[39;00m (\u001b[39mself\u001b[39m\u001b[39m.\u001b[39m_backward_hooks \u001b[39mor\u001b[39;00m \u001b[39mself\u001b[39m\u001b[39m.\u001b[39m_backward_pre_hooks \u001b[39mor\u001b[39;00m \u001b[39mself\u001b[39m\u001b[39m.\u001b[39m_forward_hooks \u001b[39mor\u001b[39;00m \u001b[39mself\u001b[39m\u001b[39m.\u001b[39m_forward_pre_hooks\n\u001b[0;32m   1499\u001b[0m         \u001b[39mor\u001b[39;00m _global_backward_pre_hooks \u001b[39mor\u001b[39;00m _global_backward_hooks\n\u001b[0;32m   1500\u001b[0m         \u001b[39mor\u001b[39;00m _global_forward_hooks \u001b[39mor\u001b[39;00m _global_forward_pre_hooks):\n\u001b[1;32m-> 1501\u001b[0m     \u001b[39mreturn\u001b[39;00m forward_call(\u001b[39m*\u001b[39margs, \u001b[39m*\u001b[39m\u001b[39m*\u001b[39mkwargs)\n\u001b[0;32m   1502\u001b[0m \u001b[39m# Do not call functions when jit is used\u001b[39;00m\n\u001b[0;32m   1503\u001b[0m full_backward_hooks, non_full_backward_hooks \u001b[39m=\u001b[39m [], []\n",
      "File \u001b[1;32mc:\\Users\\AHMED MRABET\\Documents\\ENSIAS-Workspace\\PFA\\Protein-on-Protein-Interactions-Prediction\\src\\model\\gnn.py:18\u001b[0m, in \u001b[0;36mGNN.forward\u001b[1;34m(self, x, edge_index, batch)\u001b[0m\n\u001b[0;32m     16\u001b[0m x \u001b[39m=\u001b[39m \u001b[39mself\u001b[39m\u001b[39m.\u001b[39mrelu(x)\n\u001b[0;32m     17\u001b[0m x \u001b[39m=\u001b[39m \u001b[39mself\u001b[39m\u001b[39m.\u001b[39mdropout(x)\n\u001b[1;32m---> 18\u001b[0m x \u001b[39m=\u001b[39m gmp(x, batch)  \u001b[39m# Use the global_mean_pool function\u001b[39;00m\n\u001b[0;32m     19\u001b[0m x \u001b[39m=\u001b[39m \u001b[39mself\u001b[39m\u001b[39m.\u001b[39mfc1(x)\n\u001b[0;32m     20\u001b[0m x \u001b[39m=\u001b[39m \u001b[39mself\u001b[39m\u001b[39m.\u001b[39mrelu(x)\n",
      "File \u001b[1;32mc:\\Users\\AHMED MRABET\\anaconda3\\envs\\torch\\lib\\site-packages\\torch_geometric\\nn\\pool\\glob.py:63\u001b[0m, in \u001b[0;36mglobal_mean_pool\u001b[1;34m(x, batch, size)\u001b[0m\n\u001b[0;32m     61\u001b[0m     \u001b[39mreturn\u001b[39;00m x\u001b[39m.\u001b[39mmean(dim\u001b[39m=\u001b[39mdim, keepdim\u001b[39m=\u001b[39mx\u001b[39m.\u001b[39mdim() \u001b[39m<\u001b[39m\u001b[39m=\u001b[39m \u001b[39m2\u001b[39m)\n\u001b[0;32m     62\u001b[0m size \u001b[39m=\u001b[39m \u001b[39mint\u001b[39m(batch\u001b[39m.\u001b[39mmax()\u001b[39m.\u001b[39mitem() \u001b[39m+\u001b[39m \u001b[39m1\u001b[39m) \u001b[39mif\u001b[39;00m size \u001b[39mis\u001b[39;00m \u001b[39mNone\u001b[39;00m \u001b[39melse\u001b[39;00m size\n\u001b[1;32m---> 63\u001b[0m \u001b[39mreturn\u001b[39;00m scatter(x, batch, dim\u001b[39m=\u001b[39;49mdim, dim_size\u001b[39m=\u001b[39;49msize, reduce\u001b[39m=\u001b[39;49m\u001b[39m'\u001b[39;49m\u001b[39mmean\u001b[39;49m\u001b[39m'\u001b[39;49m)\n",
      "File \u001b[1;32mc:\\Users\\AHMED MRABET\\anaconda3\\envs\\torch\\lib\\site-packages\\torch_geometric\\utils\\scatter.py:81\u001b[0m, in \u001b[0;36mscatter\u001b[1;34m(src, index, dim, dim_size, reduce)\u001b[0m\n\u001b[0;32m     78\u001b[0m count\u001b[39m.\u001b[39mscatter_add_(\u001b[39m0\u001b[39m, index, src\u001b[39m.\u001b[39mnew_ones(src\u001b[39m.\u001b[39msize(dim)))\n\u001b[0;32m     79\u001b[0m count \u001b[39m=\u001b[39m count\u001b[39m.\u001b[39mclamp(\u001b[39mmin\u001b[39m\u001b[39m=\u001b[39m\u001b[39m1\u001b[39m)\n\u001b[1;32m---> 81\u001b[0m index \u001b[39m=\u001b[39m broadcast(index, src, dim)\n\u001b[0;32m     82\u001b[0m out \u001b[39m=\u001b[39m src\u001b[39m.\u001b[39mnew_zeros(size)\u001b[39m.\u001b[39mscatter_add_(dim, index, src)\n\u001b[0;32m     84\u001b[0m \u001b[39mreturn\u001b[39;00m out \u001b[39m/\u001b[39m broadcast(count, out, dim)\n",
      "File \u001b[1;32mc:\\Users\\AHMED MRABET\\anaconda3\\envs\\torch\\lib\\site-packages\\torch_geometric\\utils\\scatter.py:21\u001b[0m, in \u001b[0;36mbroadcast\u001b[1;34m(src, ref, dim)\u001b[0m\n\u001b[0;32m     19\u001b[0m size \u001b[39m=\u001b[39m [\u001b[39m1\u001b[39m] \u001b[39m*\u001b[39m ref\u001b[39m.\u001b[39mdim()\n\u001b[0;32m     20\u001b[0m size[dim] \u001b[39m=\u001b[39m \u001b[39m-\u001b[39m\u001b[39m1\u001b[39m\n\u001b[1;32m---> 21\u001b[0m \u001b[39mreturn\u001b[39;00m src\u001b[39m.\u001b[39;49mview(size)\u001b[39m.\u001b[39;49mexpand_as(ref)\n",
      "\u001b[1;31mRuntimeError\u001b[0m: The expanded size of the tensor (10276) must match the existing size (64) at non-singleton dimension 0.  Target sizes: [10276, 64].  Tensor sizes: [64, 1]"
     ]
    }
   ],
   "source": [
    "epochs = 50\n",
    "\n",
    "# Training loop\n",
    "for epoch in range(epochs):\n",
    "    model.train()\n",
    "    running_loss = 0\n",
    "    for i, (edge_indices, edge_labels, batch) in enumerate(train_loader):\n",
    "        edge_indices, edge_labels, batch = edge_indices.to(device), edge_labels.to(device), batch.to(device)\n",
    "        optimizer.zero_grad()\n",
    "        out = model(node_features_tensor, edge_indices.t(), batch)\n",
    "        loss = criterion(out, edge_labels)\n",
    "        loss.backward()\n",
    "        optimizer.step()\n",
    "        running_loss += loss.item()\n",
    "\n",
    "    # Validation loop\n",
    "    model.eval()\n",
    "    val_loss = 0\n",
    "    with torch.no_grad():\n",
    "        for edge_indices, edge_labels, batch in val_loader:\n",
    "            edge_indices, edge_labels, batch = edge_indices.to(device), edge_labels.to(device), batch.to(device)\n",
    "            out = model(node_features_tensor, edge_indices.t(), batch)\n",
    "            loss = criterion(out, edge_labels)\n",
    "            val_loss += loss.item()\n",
    "\n",
    "    print(f\"Epoch: {epoch+1}/{epochs}, Loss: {running_loss/len(train_loader)}, Val Loss: {val_loss/len(val_loader)}\")\n"
   ]
  },
  {
   "cell_type": "code",
   "execution_count": null,
   "metadata": {},
   "outputs": [],
   "source": [
    "# Test loop\n",
    "model.eval()\n",
    "test_loss = 0\n",
    "with torch.no_grad():\n",
    "    for edge_indices, edge_labels, batch in test_loader:\n",
    "        edge_indices, edge_labels, batch = edge_indices.to(device), edge_labels.to(device), batch.to(device)\n",
    "        out = model(node_features_tensor, edge_indices.t(), batch)\n",
    "        loss = criterion(out, edge_labels)\n",
    "        test_loss += loss.item()\n",
    "\n",
    "print(f\"Test Loss: {test_loss/len(test_loader)}\")\n"
   ]
  }
 ],
 "metadata": {
  "kernelspec": {
   "display_name": "base",
   "language": "python",
   "name": "python3"
  },
  "language_info": {
   "codemirror_mode": {
    "name": "ipython",
    "version": 3
   },
   "file_extension": ".py",
   "mimetype": "text/x-python",
   "name": "python",
   "nbconvert_exporter": "python",
   "pygments_lexer": "ipython3",
   "version": "3.9.0"
  },
  "orig_nbformat": 4
 },
 "nbformat": 4,
 "nbformat_minor": 2
}
